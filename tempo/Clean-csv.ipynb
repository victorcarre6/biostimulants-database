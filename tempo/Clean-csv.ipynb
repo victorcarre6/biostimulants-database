{
 "cells": [
  {
   "cell_type": "code",
   "execution_count": 1,
   "id": "13fe7226-cc8c-458f-88c2-29bf3ecd9011",
   "metadata": {},
   "outputs": [],
   "source": [
    "import os\n",
    "os.chdir(\"/Users/victorcarre/Code/Base de donnée biostimulants/bio4safe-scraper\")\n",
    "\n",
    "import pandas as pd\n",
    "import matplotlib.pyplot as plt\n",
    "import seaborn as sns"
   ]
  },
  {
   "cell_type": "code",
   "execution_count": 2,
   "id": "7a86de0a-356b-4aba-9889-84c32d0105bc",
   "metadata": {},
   "outputs": [],
   "source": [
    "data = pd.read_csv(\"data/bio4safe.csv\" , sep=\";\")"
   ]
  },
  {
   "cell_type": "code",
   "execution_count": 3,
   "id": "d1466aed-4c85-4746-8b9a-5fc861e59054",
   "metadata": {},
   "outputs": [
    {
     "name": "stdout",
     "output_type": "stream",
     "text": [
      "    Informations générales :\n",
      "<class 'pandas.core.frame.DataFrame'>\n",
      "RangeIndex: 512 entries, 0 to 511\n",
      "Data columns (total 3 columns):\n",
      " #   Column        Non-Null Count  Dtype \n",
      "---  ------        --------------  ----- \n",
      " 0   biostimulant  512 non-null    object\n",
      " 1   type          512 non-null    object\n",
      " 2   effect        512 non-null    object\n",
      "dtypes: object(3)\n",
      "memory usage: 12.1+ KB\n",
      "None\n",
      "    Cinq premières lignes :\n",
      "      biostimulant                    type                              effect\n",
      "0              AMF       Mycorrhizal fungi  Decreased drought stress tolerance\n",
      "1      BioAtlantis         Seaweed extract  Decreased drought stress tolerance\n",
      "2          Biomega                Bacteria  Decreased drought stress tolerance\n",
      "3           Kelpak         Seaweed extract  Decreased drought stress tolerance\n",
      "4  Naturvital-Plus  Humic and fluvic acids  Decreased drought stress tolerance\n",
      "    Nom des colonnes :\n",
      "Index(['biostimulant', 'type', 'effect'], dtype='object')\n",
      "    Type de données des colonnes :\n",
      "biostimulant    object\n",
      "type            object\n",
      "effect          object\n",
      "dtype: object\n",
      "    Biostimulants les plus cités :\n",
      "biostimulant\n",
      "Actiwave                       32\n",
      "Acadian                        29\n",
      "ACTIV 0-0-5                    26\n",
      "Aegis Argilla                  25\n",
      "Acker-Schachtelhalm extract    24\n",
      "Name: count, dtype: int64\n",
      "    Valeurs manquantes par colonne :\n",
      "biostimulant    0\n",
      "type            0\n",
      "effect          0\n",
      "dtype: int64\n",
      "    Nombre de doublons :\n",
      "0\n",
      "    Doublons dans les données :\n",
      "Empty DataFrame\n",
      "Columns: [biostimulant, type, effect]\n",
      "Index: []\n",
      "    Résumé statistique :\n",
      "       biostimulant             type             effect\n",
      "count           512              512                512\n",
      "unique          147               11                 60\n",
      "top        Actiwave  Seaweed extract  Woody ornamentals\n",
      "freq             32              141                 10\n"
     ]
    }
   ],
   "source": [
    "print(\"    Informations générales :\")\n",
    "print(data.info())\n",
    "print(\"    Cinq premières lignes :\")\n",
    "print(data.head())\n",
    "print(\"    Nom des colonnes :\")\n",
    "print(data.columns)\n",
    "print(\"    Type de données des colonnes :\")\n",
    "print(data.dtypes)\n",
    "print(\"    Biostimulants les plus cités :\")\n",
    "biostimulant_counts = data['biostimulant'].value_counts()\n",
    "print(biostimulant_counts.head(5))\n",
    "print(\"    Valeurs manquantes par colonne :\")\n",
    "print(data.isnull().sum()) \n",
    "print(\"    Nombre de doublons :\")\n",
    "print(data.duplicated().sum())\n",
    "print(\"    Doublons dans les données :\")\n",
    "print(data[data.duplicated()])\n",
    "print(\"    Résumé statistique :\")\n",
    "print(data.describe())"
   ]
  },
  {
   "cell_type": "code",
   "execution_count": null,
   "id": "146b5e91-99ec-4052-bb52-a082d5866a47",
   "metadata": {},
   "outputs": [],
   "source": [
    "# Barplot pour la colonne 'type' (exemple)\n",
    "\n",
    "\n",
    "sns.countplot(x='type', data=data)\n",
    "plt.xticks(rotation=45)  # Pour que les labels ne se chevauchent pas\n",
    "plt.show()"
   ]
  },
  {
   "cell_type": "code",
   "execution_count": null,
   "id": "0246c370-3c84-405e-a5b6-cc90823b2cdd",
   "metadata": {},
   "outputs": [],
   "source": [
    "# Nettoyage\n",
    "\n",
    "## Suppression des espaces en début et fin de chaîne\n",
    "data['biostimulant'] = data['biostimulant'].str.strip()\n",
    "data['type'] = data['type'].str.strip()\n",
    "data['effect'] = data['effect'].str.strip()\n",
    "\n",
    "## Uniformisation des majuscules/minuscules pour une comparaison plus facile\n",
    "data['biostimulant'] = data['biostimulant'].str.title()\n",
    "data['type'] = data['type'].str.title()\n",
    "data['effect'] = data['effect'].str.capitalize()\n",
    "\n",
    "## Suppression des doublons\n",
    "data.drop_duplicates(inplace=True)\n",
    "\n",
    "## Vérification des valeurs manquantes\n",
    "print(\"\\n Résumé après nettoyage :\")\n",
    "print(data.info())\n",
    "print(\"\\n Cinq premières lignes après nettoyage :\")\n",
    "print(data.head())\n",
    "\n",
    "## Enregistrement du fichier nettoyé\n",
    "data.to_csv(\"data/bio4safe_cleaned.csv\", sep=\";\", index=False)\n",
    "print(\"\\n Données nettoyées et sauvegardées dans 'data/bio4safe_cleaned.csv'\")\n"
   ]
  }
 ],
 "metadata": {
  "kernelspec": {
   "display_name": "Python 3 (ipykernel)",
   "language": "python",
   "name": "python3"
  },
  "language_info": {
   "codemirror_mode": {
    "name": "ipython",
    "version": 3
   },
   "file_extension": ".py",
   "mimetype": "text/x-python",
   "name": "python",
   "nbconvert_exporter": "python",
   "pygments_lexer": "ipython3",
   "version": "3.9.6"
  }
 },
 "nbformat": 4,
 "nbformat_minor": 5
}
